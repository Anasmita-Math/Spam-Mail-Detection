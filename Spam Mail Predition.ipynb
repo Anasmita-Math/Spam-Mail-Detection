{
 "cells": [
  {
   "cell_type": "markdown",
   "id": "5d2449db-c19f-4737-b19b-cfd27b988acc",
   "metadata": {},
   "source": [
    "# Spam Mail Prediction"
   ]
  },
  {
   "cell_type": "code",
   "execution_count": 2,
   "id": "e09e32e0-e4ab-48fe-95ba-bdbfe4968de3",
   "metadata": {},
   "outputs": [],
   "source": [
    "import numpy as np\n",
    "import pandas as pd\n",
    "import seaborn as sns\n",
    "import matplotlib.pyplot as plt\n",
    "from sklearn.model_selection import train_test_split\n",
    "from sklearn.feature_extraction.text import TfidfVectorizer\n",
    "from sklearn.linear_model import LogisticRegression\n",
    "from sklearn.metrics import accuracy_score\n",
    "from sklearn.metrics import accuracy_score, confusion_matrix"
   ]
  },
  {
   "cell_type": "markdown",
   "id": "01e4cb93-1136-49db-a9d9-7428d26d33e0",
   "metadata": {},
   "source": [
    "***Data Collection & Data Processing***"
   ]
  },
  {
   "cell_type": "code",
   "execution_count": 4,
   "id": "84957654-b33e-460c-a37d-05c17f898c9c",
   "metadata": {},
   "outputs": [
    {
     "name": "stdout",
     "output_type": "stream",
     "text": [
      "  Category                                            Message\n",
      "0      ham  Go until jurong point, crazy.. Available only ...\n",
      "1      ham                      Ok lar... Joking wif u oni...\n",
      "2     spam  Free entry in 2 a wkly comp to win FA Cup fina...\n",
      "3      ham  U dun say so early hor... U c already then say...\n",
      "4      ham  Nah I don't think he goes to usf, he lives aro...\n"
     ]
    },
    {
     "data": {
      "text/plain": [
       "(5572, 2)"
      ]
     },
     "execution_count": 4,
     "metadata": {},
     "output_type": "execute_result"
    }
   ],
   "source": [
    "#Loading the dataset to a Pandas Dataframe\n",
    "raw_mail_data=pd.read_csv('Downloads/mail_data.csv')\n",
    "print(raw_mail_data.head())\n",
    "raw_mail_data.shape"
   ]
  },
  {
   "cell_type": "code",
   "execution_count": 5,
   "id": "9eb753bb-e70e-45a2-a266-d33354188ba3",
   "metadata": {},
   "outputs": [
    {
     "data": {
      "text/html": [
       "<div>\n",
       "<style scoped>\n",
       "    .dataframe tbody tr th:only-of-type {\n",
       "        vertical-align: middle;\n",
       "    }\n",
       "\n",
       "    .dataframe tbody tr th {\n",
       "        vertical-align: top;\n",
       "    }\n",
       "\n",
       "    .dataframe thead th {\n",
       "        text-align: right;\n",
       "    }\n",
       "</style>\n",
       "<table border=\"1\" class=\"dataframe\">\n",
       "  <thead>\n",
       "    <tr style=\"text-align: right;\">\n",
       "      <th></th>\n",
       "      <th>Category</th>\n",
       "      <th>Message</th>\n",
       "    </tr>\n",
       "  </thead>\n",
       "  <tbody>\n",
       "    <tr>\n",
       "      <th>0</th>\n",
       "      <td>ham</td>\n",
       "      <td>Go until jurong point, crazy.. Available only ...</td>\n",
       "    </tr>\n",
       "    <tr>\n",
       "      <th>1</th>\n",
       "      <td>ham</td>\n",
       "      <td>Ok lar... Joking wif u oni...</td>\n",
       "    </tr>\n",
       "    <tr>\n",
       "      <th>2</th>\n",
       "      <td>spam</td>\n",
       "      <td>Free entry in 2 a wkly comp to win FA Cup fina...</td>\n",
       "    </tr>\n",
       "    <tr>\n",
       "      <th>3</th>\n",
       "      <td>ham</td>\n",
       "      <td>U dun say so early hor... U c already then say...</td>\n",
       "    </tr>\n",
       "    <tr>\n",
       "      <th>4</th>\n",
       "      <td>ham</td>\n",
       "      <td>Nah I don't think he goes to usf, he lives aro...</td>\n",
       "    </tr>\n",
       "  </tbody>\n",
       "</table>\n",
       "</div>"
      ],
      "text/plain": [
       "  Category                                            Message\n",
       "0      ham  Go until jurong point, crazy.. Available only ...\n",
       "1      ham                      Ok lar... Joking wif u oni...\n",
       "2     spam  Free entry in 2 a wkly comp to win FA Cup fina...\n",
       "3      ham  U dun say so early hor... U c already then say...\n",
       "4      ham  Nah I don't think he goes to usf, he lives aro..."
      ]
     },
     "execution_count": 5,
     "metadata": {},
     "output_type": "execute_result"
    }
   ],
   "source": [
    "# Replace The Null Values With A Null String\n",
    "mail_data=raw_mail_data.where((pd.notnull(raw_mail_data)),'')\n",
    "mail_data.head()"
   ]
  },
  {
   "cell_type": "markdown",
   "id": "0e50d752-9ef8-4569-8b69-9d9506164215",
   "metadata": {},
   "source": [
    "***Label Encoding***"
   ]
  },
  {
   "cell_type": "code",
   "execution_count": 7,
   "id": "bf1ac0ce-f1bc-4b83-bbac-f8abf35967de",
   "metadata": {},
   "outputs": [],
   "source": [
    "# Label Spam Mail As 0 & Ham Mail As 1\n",
    "mail_data.loc[mail_data['Category']=='spam','Category',]=0\n",
    "mail_data.loc[mail_data['Category']=='ham','Category',]=1"
   ]
  },
  {
   "cell_type": "code",
   "execution_count": 8,
   "id": "0083647f-4783-4e22-9191-7ca1e7f1122d",
   "metadata": {},
   "outputs": [
    {
     "data": {
      "image/png": "[encoded data removed]",
      "text/plain": [
       "<Figure size 400x300 with 1 Axes>"
      ]
     },
     "metadata": {},
     "output_type": "display_data"
    }
   ],
   "source": [
    "# Visualize spam vs ham distribution\n",
    "plt.figure(figsize=(4,3))\n",
    "sns.countplot(x='Category', data=mail_data)\n",
    "plt.title(\"Distribution of Spam(0) vs Ham(1)\")\n",
    "plt.xlabel(\"Category\")\n",
    "plt.ylabel(\"Count\")\n",
    "plt.show()"
   ]
  },
  {
   "cell_type": "markdown",
   "id": "e59bc478-e89b-4a7f-b535-77ea1dab4d02",
   "metadata": {},
   "source": [
    "**Spam -->0**\n",
    "\n",
    "**Ham -->1**"
   ]
  },
  {
   "cell_type": "code",
   "execution_count": 10,
   "id": "821d7b83-e866-41fc-8d65-b98ef0f901fb",
   "metadata": {},
   "outputs": [
    {
     "name": "stdout",
     "output_type": "stream",
     "text": [
      "0    Go until jurong point, crazy.. Available only ...\n",
      "1                        Ok lar... Joking wif u oni...\n",
      "2    Free entry in 2 a wkly comp to win FA Cup fina...\n",
      "3    U dun say so early hor... U c already then say...\n",
      "4    Nah I don't think he goes to usf, he lives aro...\n",
      "Name: Message, dtype: object\n",
      "0    1\n",
      "1    1\n",
      "2    0\n",
      "3    1\n",
      "4    1\n",
      "Name: Category, dtype: object\n"
     ]
    }
   ],
   "source": [
    "#Separating The Data As Texts & Label\n",
    "X=mail_data['Message']\n",
    "Y=mail_data['Category']\n",
    "print(X.head())\n",
    "print(Y.head())"
   ]
  },
  {
   "cell_type": "markdown",
   "id": "5e1b7e09-d44d-4861-ae6f-9262d58e610a",
   "metadata": {},
   "source": [
    "***Spliting The Data Into Training & Test Data***"
   ]
  },
  {
   "cell_type": "code",
   "execution_count": 12,
   "id": "35f193ce-530e-4fac-b014-71fe95f78e2c",
   "metadata": {},
   "outputs": [
    {
     "name": "stdout",
     "output_type": "stream",
     "text": [
      "(5572,) (4457,) (1115,)\n"
     ]
    }
   ],
   "source": [
    "X_train,X_test,Y_train,Y_test=train_test_split(X,Y,test_size=0.2,random_state=3)\n",
    "print(X.shape,X_train.shape,X_test.shape)"
   ]
  },
  {
   "cell_type": "markdown",
   "id": "b79a11f1-3c6b-4b1f-81b8-95f829863ec5",
   "metadata": {},
   "source": [
    "***Feature Extraction***"
   ]
  },
  {
   "cell_type": "code",
   "execution_count": 14,
   "id": "4238c1e3-a1d4-4e72-878e-549503c98df3",
   "metadata": {},
   "outputs": [
    {
     "name": "stdout",
     "output_type": "stream",
     "text": [
      "3075                  Don know. I did't msg him recently.\n",
      "1787    Do you know why god created gap between your f...\n",
      "1614                         Thnx dude. u guys out 2nite?\n",
      "4304                                      Yup i'm free...\n",
      "3266    44 7732584351, Do you want a New Nokia 3510i c...\n",
      "Name: Message, dtype: object\n"
     ]
    }
   ],
   "source": [
    "fea_extraction=TfidfVectorizer(min_df=1,stop_words='english',lowercase=True)\n",
    "X_train_features=fea_extraction.fit_transform(X_train)\n",
    "X_test_features=fea_extraction.transform(X_test)\n",
    "Y_train=Y_train.astype('int')\n",
    "Y_test=Y_test.astype('int')\n",
    "print(X_train.head())"
   ]
  },
  {
   "cell_type": "code",
   "execution_count": 41,
   "id": "5ad0c4e8-4e5d-4d8d-98fc-6fa5650fd3ae",
   "metadata": {},
   "outputs": [
    {
     "name": "stdout",
     "output_type": "stream",
     "text": [
      "  (0, 5413)\t0.6198254967574347\n",
      "  (0, 4456)\t0.4168658090846482\n",
      "  (0, 2224)\t0.413103377943378\n",
      "  (0, 3811)\t0.34780165336891333\n",
      "  (0, 2329)\t0.38783870336935383\n",
      "  (1, 4080)\t0.18880584110891163\n",
      "  (1, 3185)\t0.29694482957694585\n",
      "  (1, 3325)\t0.31610586766078863\n",
      "  (1, 2957)\t0.3398297002864083\n",
      "  (1, 2746)\t0.3398297002864083\n",
      "  (1, 918)\t0.22871581159877646\n",
      "  (1, 1839)\t0.2784903590561455\n",
      "  (1, 2758)\t0.3226407885943799\n",
      "  (1, 2956)\t0.33036995955537024\n",
      "  (1, 1991)\t0.33036995955537024\n",
      "  (1, 3046)\t0.2503712792613518\n",
      "  (1, 3811)\t0.17419952275504033\n"
     ]
    }
   ],
   "source": [
    "print(X_train_features[:2])"
   ]
  },
  {
   "cell_type": "markdown",
   "id": "7f815ebc-cfa2-4e23-b4ca-e604a34d4417",
   "metadata": {},
   "source": [
    "***Model Training --> Logistic Regression***"
   ]
  },
  {
   "cell_type": "code",
   "execution_count": 17,
   "id": "d901a223-8df5-42e0-8bad-3af9fa4fcaae",
   "metadata": {},
   "outputs": [],
   "source": [
    "model=LogisticRegression()"
   ]
  },
  {
   "cell_type": "code",
   "execution_count": 18,
   "id": "92b17b2d-968a-4187-93b6-89c85e34abea",
   "metadata": {},
   "outputs": [
    {
     "name": "stdout",
     "output_type": "stream",
     "text": [
      "Logistic Regression model has been trained.\n"
     ]
    }
   ],
   "source": [
    "#Training The Logistic Regression Model With Training Data \n",
    "model.fit(X_train_features,Y_train);\n",
    "print(\"Logistic Regression model has been trained.\")"
   ]
  },
  {
   "cell_type": "markdown",
   "id": "0cf2f6e8-b4f6-47ed-8f2a-d78949e1c2a5",
   "metadata": {},
   "source": [
    "***Model Evaluation***"
   ]
  },
  {
   "cell_type": "code",
   "execution_count": 20,
   "id": "7d412e3b-80ec-43e9-add1-b13767b4354f",
   "metadata": {},
   "outputs": [
    {
     "name": "stdout",
     "output_type": "stream",
     "text": [
      "Accuracy on Training Data:  0.9676912721561588\n"
     ]
    }
   ],
   "source": [
    "#Accuracy Of Training Data\n",
    "training_data_prediction=model.predict(X_train_features)\n",
    "training_data_accuracy=accuracy_score(Y_train,training_data_prediction)\n",
    "print(\"Accuracy on Training Data: \",training_data_accuracy)"
   ]
  },
  {
   "cell_type": "code",
   "execution_count": 21,
   "id": "4ca753ae-b406-42e5-bfd0-b33e9e0383c3",
   "metadata": {},
   "outputs": [
    {
     "name": "stdout",
     "output_type": "stream",
     "text": [
      "Accuracy on Test Data:  0.9668161434977578\n"
     ]
    }
   ],
   "source": [
    "#Accuracy Of Test Data\n",
    "test_data_prediction=model.predict(X_test_features)\n",
    "test_data_accuracy=accuracy_score(Y_test,test_data_prediction)\n",
    "print(\"Accuracy on Test Data: \",test_data_accuracy)"
   ]
  },
  {
   "cell_type": "markdown",
   "id": "e55eb86c-6a1e-4d7b-aef4-9ba9f3641bcd",
   "metadata": {},
   "source": [
    "***Confusion Matrix Heatmap***"
   ]
  },
  {
   "cell_type": "code",
   "execution_count": 23,
   "id": "ec4e6bc4-94b4-4fe8-8dd5-d358297bc766",
   "metadata": {},
   "outputs": [
    {
     "data": {
      "image/png": "[encoded data removed]",
      "text/plain": [
       "<Figure size 400x300 with 2 Axes>"
      ]
     },
     "metadata": {},
     "output_type": "display_data"
    }
   ],
   "source": [
    "cm = confusion_matrix(Y_test, test_data_prediction)\n",
    "plt.figure(figsize=(4,3))\n",
    "sns.heatmap(cm, annot=True, fmt='d', cmap='viridis')\n",
    "plt.title(\"Confusion Matrix\")\n",
    "plt.xlabel(\"Predicted\")\n",
    "plt.ylabel(\"Actual\")\n",
    "plt.show()"
   ]
  },
  {
   "cell_type": "markdown",
   "id": "da85abb1-8c25-4425-9fc1-129fc1eac060",
   "metadata": {},
   "source": [
    "***Predictive System***"
   ]
  },
  {
   "cell_type": "code",
   "execution_count": 25,
   "id": "5449a42e-1e36-4e42-991a-79f0411e4211",
   "metadata": {},
   "outputs": [
    {
     "name": "stdout",
     "output_type": "stream",
     "text": [
      "[0]\n",
      "It Is A Spam Mail\n"
     ]
    }
   ],
   "source": [
    "input_mail=[\"WINNER!! As a valued network customer you have been selected to receivea £900 prize reward! To claim call 09061701461. Claim code KL341. Valid 12 hours only.\"]\n",
    "# Convert Text To Feature Vectors\n",
    "input_data_features=fea_extraction.transform(input_mail)\n",
    "# Making Prediction\n",
    "prediction=model.predict(input_data_features)\n",
    "print(prediction)\n",
    "if (prediction[0]==1):\n",
    "    print(\"It Is A Ham Mail\")\n",
    "else:\n",
    "        print(\"It Is A Spam Mail\")"
   ]
  }
 ],
 "metadata": {
  "kernelspec": {
   "display_name": "Python 3 (ipykernel)",
   "language": "python",
   "name": "python3"
  },
  "language_info": {
   "codemirror_mode": {
    "name": "ipython",
    "version": 3
   },
   "file_extension": ".py",
   "mimetype": "text/x-python",
   "name": "python",
   "nbconvert_exporter": "python",
   "pygments_lexer": "ipython3",
   "version": "3.12.4"
  }
 },
 "nbformat": 4,
 "nbformat_minor": 5
}
